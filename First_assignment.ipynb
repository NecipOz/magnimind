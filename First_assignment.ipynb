{
  "cells": [
    {
      "cell_type": "markdown",
      "metadata": {
        "id": "view-in-github",
        "colab_type": "text"
      },
      "source": [
        "<a href=\"https://colab.research.google.com/github/NecipOz/magnimind/blob/main/First_assignment.ipynb\" target=\"_parent\"><img src=\"https://colab.research.google.com/assets/colab-badge.svg\" alt=\"Open In Colab\"/></a>"
      ]
    },
    {
      "cell_type": "markdown",
      "id": "13fc62cd",
      "metadata": {
        "id": "13fc62cd"
      },
      "source": [
        "# Due date: Feb 20th Sunday 23.59  Pacific Time"
      ]
    },
    {
      "cell_type": "markdown",
      "id": "c924650c",
      "metadata": {
        "id": "c924650c"
      },
      "source": [
        "# First assignment "
      ]
    },
    {
      "cell_type": "markdown",
      "id": "dependent-swedish",
      "metadata": {
        "id": "dependent-swedish"
      },
      "source": [
        "1. Suppose you invested in Bitcoin at the end of 2020 when Bitcoin gained a lot of value. What would be your money at the end of a week if you had invested $1000 with an average daily increase of 12\\% ? You can solve the problem using Python.\n",
        "\n",
        "**Help**\n",
        "\n",
        " * Create a variable capital ($1000)\n",
        "\n",
        " * Create a variable for daily growth (12%)\n",
        "\n",
        " * Create a variable for period (7)\n",
        "\n",
        " * Calculate the final growth rate\n",
        "\n",
        " * Calculate result\n",
        "\n",
        " * Print result"
      ]
    },
    {
      "cell_type": "code",
      "source": [
        "capital = 1000\n",
        "daily_growth = 1.12\n",
        "period = 7\n",
        "result=1000\n",
        "i = 0\n",
        "while i <7:\n",
        "  result = result * daily_growth\n",
        "  i += 1\n",
        "print(result)\n"
      ],
      "metadata": {
        "colab": {
          "base_uri": "https://localhost:8080/"
        },
        "id": "b308iy54WWtL",
        "outputId": "890de139-f8e0-4e3f-d54b-bb285905cc21"
      },
      "id": "b308iy54WWtL",
      "execution_count": 2,
      "outputs": [
        {
          "output_type": "stream",
          "name": "stdout",
          "text": [
            "2210.6814074060812\n"
          ]
        }
      ]
    },
    {
      "cell_type": "markdown",
      "id": "hired-equilibrium",
      "metadata": {
        "id": "hired-equilibrium"
      },
      "source": [
        "\n",
        "2. Get a three digit number the from user and calculate the sum of the digits in the integer.\n",
        "\n",
        "     user --> 365\n",
        "    \n",
        "     output --> \"The sum of digits in the number is 14"
      ]
    },
    {
      "cell_type": "code",
      "source": [
        "num = input(\"Enter a number: \")\n",
        "sum = 0\n",
        "for i in num:\n",
        "  sum += int(i)\n",
        "print(\"The sum of digits in the number is\", sum)\n"
      ],
      "metadata": {
        "colab": {
          "base_uri": "https://localhost:8080/"
        },
        "id": "pEFYbewr3JVy",
        "outputId": "39808259-87da-4a31-c480-0eee6de1325f"
      },
      "id": "pEFYbewr3JVy",
      "execution_count": null,
      "outputs": [
        {
          "output_type": "stream",
          "name": "stdout",
          "text": [
            "Enter a number: 1905\n",
            "The sum of digits in the number is 15\n"
          ]
        }
      ]
    },
    {
      "cell_type": "markdown",
      "id": "statutory-timing",
      "metadata": {
        "id": "statutory-timing"
      },
      "source": [
        "3. Write some code to calculate the hypotenuse of a right angled triangle. Get the side lengths from the user.\n",
        "\n",
        "     user --> first side lenth : 6\n",
        "     \n",
        "     user --> first side lenth : 8\n",
        "     \n",
        "     output --> \"The length of the hypotenuse is 10"
      ]
    },
    {
      "cell_type": "code",
      "source": [
        "side1 = int(input(\"Enter first side length: \"))\n",
        "side2 = int(input(\"Enter second side length: \"))\n",
        "hypo = (side1**2 + side2**2)**(0.5)\n",
        "print(\"The length of the hypotenuse is\",hypo)"
      ],
      "metadata": {
        "colab": {
          "base_uri": "https://localhost:8080/"
        },
        "id": "jBz6cA3s33nc",
        "outputId": "41ec122a-61d4-4d9a-a4d3-1c9128eebf94"
      },
      "id": "jBz6cA3s33nc",
      "execution_count": null,
      "outputs": [
        {
          "output_type": "stream",
          "name": "stdout",
          "text": [
            "Enter first side length: 6\n",
            "Enter second side length: 8\n",
            "The length of the hypotenuse is 10.0\n"
          ]
        }
      ]
    },
    {
      "cell_type": "markdown",
      "id": "sporting-format",
      "metadata": {
        "id": "sporting-format"
      },
      "source": [
        "4. Get the temperature in Fahrenheit from user and write a code to convert it to Celcius. For conversion, you can use this formula: C = (5/9) * (F - 32)\n",
        "\n",
        "     Enter the temperature in Fahrenheit: \n",
        "            \n",
        "     user --> 26\n",
        "    \n",
        "     output --> Temperature (C) : -3.33"
      ]
    },
    {
      "cell_type": "code",
      "source": [
        "fahr = int(input(\"Enter the temperature in Fahrenheit: \"))\n",
        "celc = (5/9)*(fahr-32)\n",
        "print(\"Temperature (C) :\", celc)"
      ],
      "metadata": {
        "colab": {
          "base_uri": "https://localhost:8080/"
        },
        "id": "Emt--mkl91Xq",
        "outputId": "2a0f11a2-a9e4-4a0e-97b7-41c0c853d795"
      },
      "id": "Emt--mkl91Xq",
      "execution_count": null,
      "outputs": [
        {
          "output_type": "stream",
          "name": "stdout",
          "text": [
            "Enter the temperature in Fahrenheit: 26\n",
            "Temperature (C) : -3.3333333333333335\n"
          ]
        }
      ]
    },
    {
      "cell_type": "markdown",
      "id": "8d1f07f8",
      "metadata": {
        "id": "8d1f07f8"
      },
      "source": [
        "5. A store charge \\\\$12 per item if you buy less than 10 items. If you buy between 10 and 99 items, the cost is \\\\$10 per item. If you buy 100 or more items, the cost is \\\\$7 per item. Write a program that takes how many items are bought as an input and prints the total cost"
      ]
    },
    {
      "cell_type": "code",
      "source": [
        "item = int(input(\"Enter the number of items you bought: \"))\n",
        "total_cost = 0\n",
        "if item < 10:\n",
        "  total_cost = 12*item\n",
        "elif item<100:\n",
        "  total_cost = 10*item\n",
        "else:\n",
        "  total_cost = 7*item\n",
        "print(\"Total cost is\", total_cost)"
      ],
      "metadata": {
        "colab": {
          "base_uri": "https://localhost:8080/"
        },
        "id": "QQucjheW-cPC",
        "outputId": "de68a221-51bb-4bd4-ed87-688c8433ece9"
      },
      "id": "QQucjheW-cPC",
      "execution_count": null,
      "outputs": [
        {
          "output_type": "stream",
          "name": "stdout",
          "text": [
            "Enter the number of items you bought: 15\n",
            "Total cost is 150\n"
          ]
        }
      ]
    },
    {
      "cell_type": "markdown",
      "id": "55e3dcd6",
      "metadata": {
        "id": "55e3dcd6"
      },
      "source": [
        "6. Randomly generate a 6 x 6 list that has exactly 12 ones placed in random locations in the list. The rest of the entries should be zeroes. Note you can visualize the 2D list using display function. \n",
        "\n",
        "<div>\n",
        "<img src=\"attachment:Screen%20Shot%202021-10-02%20at%2017.44.06.png\" width=\"400\" height=\"200\" >"
      ]
    },
    {
      "cell_type": "code",
      "source": [
        "list2d = []\n",
        "for i in range(6):\n",
        "  list2d.append([0,0,0,0,0,0])\n",
        "import random \n",
        "list_rand = []\n",
        "while len(set(list_rand))<12:\n",
        "  list_rand.append(random.randint(0,35))\n",
        "list_rand = list(set(list_rand))\n",
        "for i in list_rand:\n",
        "  list2d[i//6][i%6] = 1\n",
        "print(list2d)"
      ],
      "metadata": {
        "colab": {
          "base_uri": "https://localhost:8080/"
        },
        "id": "mP7i-h-I_bTz",
        "outputId": "62fd73b6-512c-4764-fa48-c41984293985"
      },
      "id": "mP7i-h-I_bTz",
      "execution_count": null,
      "outputs": [
        {
          "output_type": "stream",
          "name": "stdout",
          "text": [
            "[[1, 1, 0, 0, 0, 0], [0, 0, 0, 1, 1, 1], [0, 0, 1, 1, 1, 1], [0, 0, 0, 0, 0, 0], [1, 1, 0, 0, 0, 0], [0, 0, 0, 1, 0, 0]]\n"
          ]
        }
      ]
    },
    {
      "cell_type": "code",
      "source": [
        "import numpy as np\n",
        "array1 = np.zeros(36)\n",
        "while np.sum(array1)<12:\n",
        "  index = random.randint(0,35)\n",
        "  array1[index] = 1\n",
        "print(array1.reshape(6,6))"
      ],
      "metadata": {
        "colab": {
          "base_uri": "https://localhost:8080/"
        },
        "id": "SJJMgKZ_HWt3",
        "outputId": "744da8a4-e329-443b-c016-d6f8ed6bd591"
      },
      "id": "SJJMgKZ_HWt3",
      "execution_count": null,
      "outputs": [
        {
          "output_type": "stream",
          "name": "stdout",
          "text": [
            "[[0. 1. 0. 0. 0. 0.]\n",
            " [0. 1. 0. 0. 0. 1.]\n",
            " [0. 1. 1. 0. 0. 1.]\n",
            " [1. 0. 0. 1. 0. 0.]\n",
            " [0. 0. 0. 1. 0. 0.]\n",
            " [1. 1. 1. 0. 0. 0.]]\n"
          ]
        }
      ]
    },
    {
      "cell_type": "markdown",
      "id": "6d8c5d36",
      "metadata": {
        "id": "6d8c5d36"
      },
      "source": [
        "7. A prime number is an integer greater than one that is only divisible by one and itself. Write a function that determines whether or not its parameter is prime, returning True if it is, and False otherwise. Write a main program that reads an integer from the user and displays a message indicating whether or not it is prime. "
      ]
    },
    {
      "cell_type": "code",
      "source": [
        "def prime_control(num):\n",
        "  if num == 2:\n",
        "    return True\n",
        "  else:\n",
        "    for i in range(2,int(num**(0.5)+1)):\n",
        "      if num % i == 0:\n",
        "        return False\n",
        "    return True\n",
        "prime_control(961748941)"
      ],
      "metadata": {
        "colab": {
          "base_uri": "https://localhost:8080/"
        },
        "id": "ASNW5MOsNfdk",
        "outputId": "188aadcf-3e4c-4bdc-e110-6bcbe657097c"
      },
      "id": "ASNW5MOsNfdk",
      "execution_count": null,
      "outputs": [
        {
          "output_type": "execute_result",
          "data": {
            "text/plain": [
              "True"
            ]
          },
          "metadata": {},
          "execution_count": 52
        }
      ]
    },
    {
      "cell_type": "markdown",
      "id": "dcaf9b85",
      "metadata": {
        "id": "dcaf9b85"
      },
      "source": [
        "8. A year is a leap year if it is divisible by 4, except that years divisible by 100 are not leap years unless they are also divisible by 400. <br>Write a function that takes a year as an input and determines how many leap years there have been between 1600 and that year."
      ]
    },
    {
      "cell_type": "code",
      "source": [
        "def leapyear(year):\n",
        "  if year % 400 == 0:\n",
        "    return True\n",
        "  elif year % 100 == 0:\n",
        "    return False\n",
        "  elif year % 4 == 0:\n",
        "    return True\n",
        "  else:\n",
        "    return False\n",
        "\n",
        "count=0\n",
        "for i in range(1600,2023):\n",
        "  if leapyear(i):\n",
        "    count += 1\n",
        "print(\"Leap years there have been between 1600 and that year: \",count)\n"
      ],
      "metadata": {
        "colab": {
          "base_uri": "https://localhost:8080/"
        },
        "id": "FQENfocPQ5II",
        "outputId": "a32b03dd-6883-4323-ba94-406dce9c20aa"
      },
      "id": "FQENfocPQ5II",
      "execution_count": null,
      "outputs": [
        {
          "output_type": "stream",
          "name": "stdout",
          "text": [
            "Leap years there have been between 1600 and that year:  103\n"
          ]
        }
      ]
    },
    {
      "cell_type": "code",
      "source": [
        ""
      ],
      "metadata": {
        "id": "-zp81kCFRr9M"
      },
      "id": "-zp81kCFRr9M",
      "execution_count": null,
      "outputs": []
    }
  ],
  "metadata": {
    "kernelspec": {
      "display_name": "Python 3",
      "language": "python",
      "name": "python3"
    },
    "language_info": {
      "codemirror_mode": {
        "name": "ipython",
        "version": 3
      },
      "file_extension": ".py",
      "mimetype": "text/x-python",
      "name": "python",
      "nbconvert_exporter": "python",
      "pygments_lexer": "ipython3",
      "version": "3.8.8"
    },
    "colab": {
      "name": "First_assignment.ipynb",
      "provenance": [],
      "collapsed_sections": [],
      "include_colab_link": true
    }
  },
  "nbformat": 4,
  "nbformat_minor": 5
}