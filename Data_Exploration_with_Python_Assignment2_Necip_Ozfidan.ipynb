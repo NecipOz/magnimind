{
  "cells": [
    {
      "cell_type": "markdown",
      "metadata": {
        "id": "view-in-github",
        "colab_type": "text"
      },
      "source": [
        "<a href=\"https://colab.research.google.com/github/NecipOz/magnimind/blob/main/Data_Exploration_with_Python_Assignment2_Necip_Ozfidan.ipynb\" target=\"_parent\"><img src=\"https://colab.research.google.com/assets/colab-badge.svg\" alt=\"Open In Colab\"/></a>"
      ]
    },
    {
      "cell_type": "markdown",
      "id": "7d56106e",
      "metadata": {
        "id": "7d56106e"
      },
      "source": [
        "### Second Assignment:\n",
        "### Due: 7 March Monday"
      ]
    },
    {
      "cell_type": "markdown",
      "id": "afe41b2e",
      "metadata": {
        "id": "afe41b2e"
      },
      "source": [
        "**Problem1**\n",
        "\n",
        "You're putting together contact information for all the users of your website to ship them a small gift. You queried your database and got back a list of users, where each user is another list with up to two items: a string representing the user's name and their shipping zip code. Example data might look like:\n",
        "\n"
      ]
    },
    {
      "cell_type": "markdown",
      "id": "2fb40aa6",
      "metadata": {
        "id": "2fb40aa6"
      },
      "source": [
        "[[\"Grae Drake\", 98110], [\"Bethany Kok\"], [\"Alex Nussbacher\", 94101], [\"Darrell Silver\", 11201]]\n",
        "\n",
        "\n",
        "Notice that one of the users above has a name but doesn't have a zip code.\n",
        "\n",
        "Write a function user_contacts that takes a two-dimensional list like the one above and returns a dictionary with an item for each user where the key is the user's name and the value is the user's zip code. If your data doesn't include a zip code then the value should be None.\n",
        "\n",
        "For example, using the input above, user_contacts would return this dictionary:\n",
        "\n",
        "\n"
      ]
    },
    {
      "cell_type": "markdown",
      "id": "78d9b478",
      "metadata": {
        "id": "78d9b478"
      },
      "source": [
        "{\n",
        "    \"Grae Drake\": 98110,\n",
        "    \"Bethany Kok\": None,\n",
        "    \"Alex Nussbacher\": 94101,\n",
        "    \"Darrell Silver\": 11201,    \n",
        "}"
      ]
    },
    {
      "cell_type": "code",
      "source": [
        "def users_contacts(contactlist):\n",
        "  dict_contact = {}\n",
        "  for i in contactlist:\n",
        "    if len(i) == 1:\n",
        "      dict_contact[i[0]] = None\n",
        "    else:\n",
        "      dict_contact[i[0]] = i[1]\n",
        "  return dict_contact"
      ],
      "metadata": {
        "id": "GESIBOseQdYP"
      },
      "id": "GESIBOseQdYP",
      "execution_count": null,
      "outputs": []
    },
    {
      "cell_type": "code",
      "source": [
        "contact1 = [[\"Grae Drake\", 98110], [\"Bethany Kok\"], [\"Alex Nussbacher\", 94101], [\"Darrell Silver\", 11201]]\n",
        "\n",
        "users_contacts(contact1)"
      ],
      "metadata": {
        "colab": {
          "base_uri": "https://localhost:8080/"
        },
        "id": "AeZ_YJFCTNyQ",
        "outputId": "bea77987-8e56-4671-8e1c-f8dce01b47d7"
      },
      "id": "AeZ_YJFCTNyQ",
      "execution_count": null,
      "outputs": [
        {
          "output_type": "execute_result",
          "data": {
            "text/plain": [
              "{'Alex Nussbacher': 94101,\n",
              " 'Bethany Kok': None,\n",
              " 'Darrell Silver': 11201,\n",
              " 'Grae Drake': 98110}"
            ]
          },
          "metadata": {},
          "execution_count": 8
        }
      ]
    },
    {
      "cell_type": "markdown",
      "id": "cbb6dd47",
      "metadata": {
        "id": "cbb6dd47"
      },
      "source": [
        "**Problem2**\n",
        "\n",
        "You have a two-dimensional list in the following format:\n",
        "\n",
        "data = [[2, 5], [3, 4], [8, 7]]\n",
        "\n",
        "Each sub-list contains two items, and each item in the sub-lists is an integer.\n",
        "\n",
        "Write a function process_data that processes each sub-list like so:\n",
        "\n"
      ]
    },
    {
      "cell_type": "raw",
      "id": "eb61be28",
      "metadata": {
        "id": "eb61be28"
      },
      "source": [
        "[2, 5] --> 2 - 5 --> -3\n",
        "[3, 4] --> 3 - 4 --> -1\n",
        "[8, 7] --> 8 - 7 --> 1\n",
        "\n",
        "and then returns the product of all the processed sub-lists: -3 * -1 * 1 --> 3. \n",
        "For input, you can trust that neither the main list nor the sublists will be empty."
      ]
    },
    {
      "cell_type": "code",
      "source": [
        "def process_data(data):\n",
        "  result = 1\n",
        "  for i in data:\n",
        "    result *= (i[0]-i[1])\n",
        "  return result\n"
      ],
      "metadata": {
        "id": "Y0qks3H9MKTh"
      },
      "id": "Y0qks3H9MKTh",
      "execution_count": null,
      "outputs": []
    },
    {
      "cell_type": "code",
      "source": [
        "data = [[4, 5], [3, 4], [8, 7]]\n",
        "process_data(data)"
      ],
      "metadata": {
        "colab": {
          "base_uri": "https://localhost:8080/"
        },
        "id": "rrBab0BtPzxM",
        "outputId": "54efd70d-31f6-4901-a491-83d304ee39b5"
      },
      "id": "rrBab0BtPzxM",
      "execution_count": null,
      "outputs": [
        {
          "output_type": "execute_result",
          "data": {
            "text/plain": [
              "1"
            ]
          },
          "metadata": {},
          "execution_count": 4
        }
      ]
    },
    {
      "cell_type": "markdown",
      "id": "24b4d546",
      "metadata": {
        "id": "24b4d546"
      },
      "source": [
        "**Problem3**  \n",
        "The following two lists contain student names and scores. \n",
        "\n",
        "names = [\"David\", \"Michael\", \"John\", \"James\", \"Greg\", \"Mark\", \"William\", \"Richard\", \"Thomas\", \"Steven\", \n",
        "          \"Mary\", \"Susan\", \"Maria\", \"Karen\", \"Lisa\", \"Linda\", \"Donna\", \"Patricia\", \"Debra\", \"Eric\"]\n",
        "\n",
        " scores = [99, 87, 78, 86, 68, 94, 76, 97, 56, 98, 76, 87, 79, 90, 73, 93, 82, 69, 97, 98]\n",
        " \n",
        "By using the two lists above, print the names of students ranked in top-3 highest scores\n"
      ]
    },
    {
      "cell_type": "code",
      "source": [
        "names = [\"David\", \"Michael\", \"John\", \"James\", \"Greg\", \"Mark\", \"William\", \\\n",
        "         \"Richard\", \"Thomas\", \"Steven\", \"Mary\", \"Susan\", \"Maria\", \"Karen\",\\\n",
        "         \"Lisa\", \"Linda\", \"Donna\", \"Patricia\", \"Debra\", \"Eric\"]\n",
        "scores = [99, 87, 78, 86, 68, 94, 76, 97, 56, 98, 76, 87, 79, 90, 73, 93, 82, 69, 97, 98]\n",
        "for i in range(3):\n",
        "  index_max = scores.index(max(scores))\n",
        "  print(f\"{i+1}. {names[index_max]} --> score: {max(scores)}\")\n",
        "  scores.remove(max(scores))\n",
        "  names.remove(names[index_max])\n",
        "\n"
      ],
      "metadata": {
        "colab": {
          "base_uri": "https://localhost:8080/"
        },
        "id": "ua5wngENTqLT",
        "outputId": "540df7b4-7c3c-4f4a-a8da-9ad959ed2319"
      },
      "id": "ua5wngENTqLT",
      "execution_count": null,
      "outputs": [
        {
          "output_type": "stream",
          "name": "stdout",
          "text": [
            "1. David --> score: 99\n",
            "2. Steven --> score: 98\n",
            "3. Eric --> score: 98\n"
          ]
        }
      ]
    },
    {
      "cell_type": "markdown",
      "id": "9fcb4984",
      "metadata": {
        "id": "9fcb4984"
      },
      "source": [
        "**Problem4**  \n",
        "Write a code that asks the user to enter a word and then capitalizes every other letter of that word.  \n",
        "So if the user enters rhinoceros, the program should print rHiNoCeRoS."
      ]
    },
    {
      "cell_type": "code",
      "source": [
        "word = input(\"Enter a word: \")\n",
        "word_list = list(word)\n",
        "for i in range(1,len(word),2):\n",
        "  word_list[i] = word_list[i].upper()\n",
        "print(\"\".join(word_list))"
      ],
      "metadata": {
        "colab": {
          "base_uri": "https://localhost:8080/"
        },
        "id": "BsnEy0LuYYFC",
        "outputId": "71dbc71a-03e7-4b36-99ee-c56bebde15e2"
      },
      "id": "BsnEy0LuYYFC",
      "execution_count": null,
      "outputs": [
        {
          "output_type": "stream",
          "name": "stdout",
          "text": [
            "Enter a word: rhinoceros\n",
            "rHiNoCeRoS\n"
          ]
        }
      ]
    },
    {
      "cell_type": "markdown",
      "id": "1adfd196",
      "metadata": {
        "id": "1adfd196"
      },
      "source": [
        "**Problem5**  \n",
        "Use names and scores lists given in problem 3 write the scores into **class_scores.txt** file, where each line of the file contains a one word username and a test score separated by spaces, like below:.\n",
        "        \n",
        "    David 99\n",
        "    Michael 87\n",
        "    John 78\n",
        "    James 86\n",
        "    Greg 68\n",
        "    Mark 94\n",
        "    William 76\n",
        "    Richard 97\n",
        "    ...\n",
        "\n",
        "\n",
        "After that write code that scans through **class_scores.txt** file adds 5 points to each test score, and outputs the user-names and new test scores to a new file, **scores2.txt**."
      ]
    },
    {
      "cell_type": "code",
      "source": [
        "# write the scores into class_scores.txt file\n",
        "\n",
        "names = [\"David\", \"Michael\", \"John\", \"James\", \"Greg\", \"Mark\", \"William\", \"Richard\", \"Thomas\", \"Steven\", \"Mary\", \"Susan\", \"Maria\", \"Karen\", \"Lisa\", \"Linda\", \"Donna\", \"Patricia\", \"Debra\", \"Eric\"]\n",
        "\n",
        "scores = [99, 87, 78, 86, 68, 94, 76, 97, 56, 98, 76, 87, 79, 90, 73, 93, 82, 69, 97, 98]\n",
        "\n",
        "with open('class_scores.txt', 'w') as f:\n",
        "    for i in range(len(scores)):\n",
        "        f.write(names[i])\n",
        "        f.write('  ')\n",
        "        f.write(str(scores[i]))\n",
        "        f.write('\\n')\n",
        "f.close()"
      ],
      "metadata": {
        "id": "Yab2bl9RmlJr"
      },
      "id": "Yab2bl9RmlJr",
      "execution_count": 58,
      "outputs": []
    },
    {
      "cell_type": "code",
      "source": [
        "# adds 5 points to each test score\n",
        "\n",
        "lines = [line.strip().split() for line in open('class_scores.txt')]\n",
        "for i in lines:\n",
        "  i[1] = int(i[1])+5\n"
      ],
      "metadata": {
        "id": "eY-JdQF6qJ7Z"
      },
      "id": "eY-JdQF6qJ7Z",
      "execution_count": 59,
      "outputs": []
    },
    {
      "cell_type": "code",
      "source": [
        "# outputs the user-names and new test scores to a new file, scores2.txt.\n",
        "\n",
        "with open('scores2.txt', 'w') as f2:\n",
        "  for i in range(len(lines)):\n",
        "    f2.write(lines[i][0])\n",
        "    f2.write('  ')\n",
        "    f2.write(str(lines[i][1]))\n",
        "    f2.write('\\n')"
      ],
      "metadata": {
        "id": "K331TTxYLbOE"
      },
      "id": "K331TTxYLbOE",
      "execution_count": 60,
      "outputs": []
    },
    {
      "cell_type": "markdown",
      "id": "7fe254cb",
      "metadata": {
        "id": "7fe254cb"
      },
      "source": [
        "**Problem6**  \n",
        "You are given a file called students.txt. A typical line in the file looks like: \n",
        "        \n",
        "        walter melon melon@email.uni.edu 555-3141\n",
        "\n",
        "There is a name, an email address, and a phone number, each separated by tabs. \n",
        "Write a program that reads through the file line-by-line, and for each line, capitalizes the first letter of the first and last name and adds the area code 301 to the phone number. \n",
        "\n",
        "Your program should write this to a new file called students2.txt. Here is what the first line of the new file should look like:\n",
        "      \n",
        "      Walter Melon        melon@email.uni.edu        301-555-3141"
      ]
    },
    {
      "cell_type": "code",
      "source": [
        "#read through the file line-by-line\n",
        "\n",
        "with open(\"students.txt\",\"r\") as stu:\n",
        "  stu_line = [stu_line.strip().split() for stu_line in stu]\n",
        "\n",
        "#for each line, capitalizes the first letter of the first and last name \n",
        "#and adds the area code 301 to the phone number.\n",
        "\n",
        "  for i in stu_line:\n",
        "    i[0] = i[0].title()\n",
        "    i[1] = i[1].title()\n",
        "    i[3] = '301-'+i[3]\n",
        "stu.close()\n"
      ],
      "metadata": {
        "id": "VoXrpHoceYtL"
      },
      "id": "VoXrpHoceYtL",
      "execution_count": 81,
      "outputs": []
    },
    {
      "cell_type": "code",
      "source": [
        "stu_line"
      ],
      "metadata": {
        "colab": {
          "base_uri": "https://localhost:8080/"
        },
        "id": "j48GP6g2g_rU",
        "outputId": "d73b503d-4ae6-4fe7-b483-463e97cf27ad"
      },
      "id": "j48GP6g2g_rU",
      "execution_count": 82,
      "outputs": [
        {
          "output_type": "execute_result",
          "data": {
            "text/plain": [
              "[['Walter', 'Melon', 'melon@email.uni.edu', '301-555-3141'],\n",
              " ['David', 'Johnh', 'david@email.uni2.edu', '301-345-8768']]"
            ]
          },
          "metadata": {},
          "execution_count": 82
        }
      ]
    },
    {
      "cell_type": "code",
      "source": [
        "# write new format to a new file called students2.txt\n",
        "\n",
        "with open('students2.txt', 'w') as stu2:\n",
        "  for i in range(len(stu_line)):\n",
        "    for j in stu_line[i]:\n",
        "      stu2.write(str(j))\n",
        "      stu2.write('  ')\n",
        "    stu2.write('\\n')"
      ],
      "metadata": {
        "id": "tjQ3-0VPettH"
      },
      "id": "tjQ3-0VPettH",
      "execution_count": 83,
      "outputs": []
    },
    {
      "cell_type": "code",
      "source": [
        ""
      ],
      "metadata": {
        "id": "AvwGfuvYgQbz"
      },
      "id": "AvwGfuvYgQbz",
      "execution_count": null,
      "outputs": []
    }
  ],
  "metadata": {
    "kernelspec": {
      "display_name": "Python 3",
      "language": "python",
      "name": "python3"
    },
    "language_info": {
      "codemirror_mode": {
        "name": "ipython",
        "version": 3
      },
      "file_extension": ".py",
      "mimetype": "text/x-python",
      "name": "python",
      "nbconvert_exporter": "python",
      "pygments_lexer": "ipython3",
      "version": "3.8.8"
    },
    "colab": {
      "name": "Data Exploration with Python_Assignment2_Necip_Ozfidan",
      "provenance": [],
      "collapsed_sections": [],
      "include_colab_link": true
    }
  },
  "nbformat": 4,
  "nbformat_minor": 5
}